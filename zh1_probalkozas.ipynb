{
    "metadata": {
        "kernelspec": {
            "name": "SQL",
            "display_name": "SQL",
            "language": "sql"
        },
        "language_info": {
            "name": "sql",
            "version": ""
        }
    },
    "nbformat_minor": 2,
    "nbformat": 4,
    "cells": [
        {
            "cell_type": "code",
            "source": [
                "--1. feladat\r\n",
                "select tipus, round(avg(csillagok_szama),1) as \"átlag csillagok\"\r\n",
                "from szallashely\r\n",
                "group by tipus\r\n",
                "having tipus <> 'panzió' and round(avg(csillagok_szama),1)>=3"
            ],
            "metadata": {
                "azdata_cell_guid": "b825001f-a9f1-498c-9e1d-19769dfde848",
                "language": "sql"
            },
            "outputs": [
                {
                    "output_type": "display_data",
                    "data": {
                        "text/html": "(1 row affected)"
                    },
                    "metadata": {}
                },
                {
                    "output_type": "display_data",
                    "data": {
                        "text/html": "Total execution time: 00:00:00.008"
                    },
                    "metadata": {}
                },
                {
                    "output_type": "execute_result",
                    "metadata": {},
                    "execution_count": 18,
                    "data": {
                        "application/vnd.dataresource+json": {
                            "schema": {
                                "fields": [
                                    {
                                        "name": "tipus"
                                    },
                                    {
                                        "name": "átlag csillagok"
                                    }
                                ]
                            },
                            "data": [
                                {
                                    "tipus": "Hotel",
                                    "átlag csillagok": "3"
                                }
                            ]
                        },
                        "text/html": [
                            "<table>",
                            "<tr><th>tipus</th><th>átlag csillagok</th></tr>",
                            "<tr><td>Hotel</td><td>3</td></tr>",
                            "</table>"
                        ]
                    }
                }
            ],
            "execution_count": 18
        },
        {
            "cell_type": "code",
            "source": [
                "--2. feladat\r\n",
                "select szallashely.szallas_nev, count(f.FOGLALAS_PK) as \"foglalások száma\"\r\n",
                "from szallashely join szoba sz on szallashely.SZALLAS_ID = sz.SZALLAS_FK\r\n",
                "left join foglalas f on f.SZOBA_FK = sz.SZOBA_ID\r\n",
                "group by szallashely.SZALLAS_nev"
            ],
            "metadata": {
                "azdata_cell_guid": "5ede62d7-db93-4307-a73a-a84e992fd1ef",
                "language": "sql"
            },
            "outputs": [
                {
                    "output_type": "display_data",
                    "data": {
                        "text/html": "Warning: Null value is eliminated by an aggregate or other SET operation."
                    },
                    "metadata": {}
                },
                {
                    "output_type": "display_data",
                    "data": {
                        "text/html": "(17 rows affected)"
                    },
                    "metadata": {}
                },
                {
                    "output_type": "display_data",
                    "data": {
                        "text/html": "Total execution time: 00:00:00.016"
                    },
                    "metadata": {}
                },
                {
                    "output_type": "execute_result",
                    "metadata": {},
                    "execution_count": 28,
                    "data": {
                        "application/vnd.dataresource+json": {
                            "schema": {
                                "fields": [
                                    {
                                        "name": "szallas_nev"
                                    },
                                    {
                                        "name": "foglalás száma"
                                    }
                                ]
                            },
                            "data": [
                                {
                                    "szallas_nev": "Szieszta Apartmanház",
                                    "foglalás száma": "34"
                                },
                                {
                                    "szallas_nev": "Fortuna panzió",
                                    "foglalás száma": "126"
                                },
                                {
                                    "szallas_nev": "Nyárfás Vendégház",
                                    "foglalás száma": "0"
                                },
                                {
                                    "szallas_nev": "Kentaur Hotel",
                                    "foglalás száma": "179"
                                },
                                {
                                    "szallas_nev": "Partiszél Vendégház",
                                    "foglalás száma": "26"
                                },
                                {
                                    "szallas_nev": "Riviéra Panzió",
                                    "foglalás száma": "0"
                                },
                                {
                                    "szallas_nev": "Sába-Ház",
                                    "foglalás száma": "70"
                                },
                                {
                                    "szallas_nev": "Tímárház Panzió",
                                    "foglalás száma": "0"
                                },
                                {
                                    "szallas_nev": "Bagoly Hotel",
                                    "foglalás száma": "0"
                                },
                                {
                                    "szallas_nev": "Családi Ház",
                                    "foglalás száma": "18"
                                },
                                {
                                    "szallas_nev": "Fortuna Apartman",
                                    "foglalás száma": "39"
                                },
                                {
                                    "szallas_nev": "Szarvas Hotel",
                                    "foglalás száma": "0"
                                },
                                {
                                    "szallas_nev": "Hotel Három Hattyú",
                                    "foglalás száma": "204"
                                },
                                {
                                    "szallas_nev": "Jáde panzió",
                                    "foglalás száma": "29"
                                },
                                {
                                    "szallas_nev": "Lagúna Hotel",
                                    "foglalás száma": "123"
                                },
                                {
                                    "szallas_nev": "Gold Hotel",
                                    "foglalás száma": "179"
                                },
                                {
                                    "szallas_nev": "Kollégium",
                                    "foglalás száma": "0"
                                }
                            ]
                        },
                        "text/html": [
                            "<table>",
                            "<tr><th>szallas_nev</th><th>foglalás száma</th></tr>",
                            "<tr><td>Szieszta Apartmanház</td><td>34</td></tr>",
                            "<tr><td>Fortuna panzió</td><td>126</td></tr>",
                            "<tr><td>Nyárfás Vendégház</td><td>0</td></tr>",
                            "<tr><td>Kentaur Hotel</td><td>179</td></tr>",
                            "<tr><td>Partiszél Vendégház</td><td>26</td></tr>",
                            "<tr><td>Riviéra Panzió</td><td>0</td></tr>",
                            "<tr><td>Sába-Ház</td><td>70</td></tr>",
                            "<tr><td>Tímárház Panzió</td><td>0</td></tr>",
                            "<tr><td>Bagoly Hotel</td><td>0</td></tr>",
                            "<tr><td>Családi Ház</td><td>18</td></tr>",
                            "<tr><td>Fortuna Apartman</td><td>39</td></tr>",
                            "<tr><td>Szarvas Hotel</td><td>0</td></tr>",
                            "<tr><td>Hotel Három Hattyú</td><td>204</td></tr>",
                            "<tr><td>Jáde panzió</td><td>29</td></tr>",
                            "<tr><td>Lagúna Hotel</td><td>123</td></tr>",
                            "<tr><td>Gold Hotel</td><td>179</td></tr>",
                            "<tr><td>Kollégium</td><td>0</td></tr>",
                            "</table>"
                        ]
                    }
                }
            ],
            "execution_count": 28
        }
    ]
}