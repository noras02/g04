{
    "metadata": {
        "kernelspec": {
            "name": "SQL",
            "display_name": "SQL",
            "language": "sql"
        },
        "language_info": {
            "name": "sql",
            "version": ""
        }
    },
    "nbformat_minor": 2,
    "nbformat": 4,
    "cells": [
        {
            "cell_type": "code",
            "source": [
                "select iif(grouping_id(szoba_fk)=1, 'Összesen', cast(szoba_fk as nvarchar(4))) as 'szoba', count(*) as 'foglalas száma'\r\n",
                "from foglalas\r\n",
                "where FELNOTT_SZAM > GYERMEK_SZAM\r\n",
                "group by rollup (szoba_fk)"
            ],
            "metadata": {
                "azdata_cell_guid": "3907c2a0-e963-4c0c-9bcb-3ad56ff72387",
                "language": "sql"
            },
            "outputs": [
                {
                    "output_type": "display_data",
                    "data": {
                        "text/html": "(190 rows affected)"
                    },
                    "metadata": {}
                },
                {
                    "output_type": "display_data",
                    "data": {
                        "text/html": "Total execution time: 00:00:00.030"
                    },
                    "metadata": {}
                },
                {
                    "output_type": "execute_result",
                    "metadata": {},
                    "execution_count": 3,
                    "data": {
                        "application/vnd.dataresource+json": {
                            "schema": {
                                "fields": [
                                    {
                                        "name": "szoba"
                                    },
                                    {
                                        "name": "foglalas száma"
                                    }
                                ]
                            },
                            "data": [
                                {
                                    "szoba": "1",
                                    "foglalas száma": "7"
                                },
                                {
                                    "szoba": "2",
                                    "foglalas száma": "2"
                                },
                                {
                                    "szoba": "3",
                                    "foglalas száma": "3"
                                },
                                {
                                    "szoba": "4",
                                    "foglalas száma": "5"
                                },
                                {
                                    "szoba": "5",
                                    "foglalas száma": "2"
                                },
                                {
                                    "szoba": "6",
                                    "foglalas száma": "5"
                                },
                                {
                                    "szoba": "7",
                                    "foglalas száma": "6"
                                },
                                {
                                    "szoba": "8",
                                    "foglalas száma": "5"
                                },
                                {
                                    "szoba": "9",
                                    "foglalas száma": "4"
                                },
                                {
                                    "szoba": "10",
                                    "foglalas száma": "4"
                                },
                                {
                                    "szoba": "11",
                                    "foglalas száma": "4"
                                },
                                {
                                    "szoba": "12",
                                    "foglalas száma": "7"
                                },
                                {
                                    "szoba": "13",
                                    "foglalas száma": "4"
                                },
                                {
                                    "szoba": "14",
                                    "foglalas száma": "3"
                                },
                                {
                                    "szoba": "15",
                                    "foglalas száma": "4"
                                },
                                {
                                    "szoba": "16",
                                    "foglalas száma": "1"
                                },
                                {
                                    "szoba": "17",
                                    "foglalas száma": "2"
                                },
                                {
                                    "szoba": "18",
                                    "foglalas száma": "3"
                                },
                                {
                                    "szoba": "19",
                                    "foglalas száma": "4"
                                },
                                {
                                    "szoba": "20",
                                    "foglalas száma": "5"
                                },
                                {
                                    "szoba": "21",
                                    "foglalas száma": "1"
                                },
                                {
                                    "szoba": "22",
                                    "foglalas száma": "2"
                                },
                                {
                                    "szoba": "23",
                                    "foglalas száma": "3"
                                },
                                {
                                    "szoba": "24",
                                    "foglalas száma": "3"
                                },
                                {
                                    "szoba": "25",
                                    "foglalas száma": "1"
                                },
                                {
                                    "szoba": "27",
                                    "foglalas száma": "5"
                                },
                                {
                                    "szoba": "28",
                                    "foglalas száma": "5"
                                },
                                {
                                    "szoba": "29",
                                    "foglalas száma": "3"
                                },
                                {
                                    "szoba": "30",
                                    "foglalas száma": "2"
                                },
                                {
                                    "szoba": "31",
                                    "foglalas száma": "1"
                                },
                                {
                                    "szoba": "32",
                                    "foglalas száma": "1"
                                },
                                {
                                    "szoba": "33",
                                    "foglalas száma": "3"
                                },
                                {
                                    "szoba": "34",
                                    "foglalas száma": "3"
                                },
                                {
                                    "szoba": "35",
                                    "foglalas száma": "6"
                                },
                                {
                                    "szoba": "36",
                                    "foglalas száma": "4"
                                },
                                {
                                    "szoba": "37",
                                    "foglalas száma": "2"
                                },
                                {
                                    "szoba": "38",
                                    "foglalas száma": "5"
                                },
                                {
                                    "szoba": "39",
                                    "foglalas száma": "4"
                                },
                                {
                                    "szoba": "40",
                                    "foglalas száma": "3"
                                },
                                {
                                    "szoba": "41",
                                    "foglalas száma": "1"
                                },
                                {
                                    "szoba": "42",
                                    "foglalas száma": "5"
                                },
                                {
                                    "szoba": "43",
                                    "foglalas száma": "4"
                                },
                                {
                                    "szoba": "44",
                                    "foglalas száma": "6"
                                },
                                {
                                    "szoba": "45",
                                    "foglalas száma": "4"
                                },
                                {
                                    "szoba": "46",
                                    "foglalas száma": "3"
                                },
                                {
                                    "szoba": "47",
                                    "foglalas száma": "2"
                                },
                                {
                                    "szoba": "48",
                                    "foglalas száma": "6"
                                },
                                {
                                    "szoba": "49",
                                    "foglalas száma": "5"
                                },
                                {
                                    "szoba": "50",
                                    "foglalas száma": "3"
                                },
                                {
                                    "szoba": "51",
                                    "foglalas száma": "3"
                                },
                                {
                                    "szoba": "52",
                                    "foglalas száma": "5"
                                },
                                {
                                    "szoba": "54",
                                    "foglalas száma": "4"
                                },
                                {
                                    "szoba": "55",
                                    "foglalas száma": "3"
                                },
                                {
                                    "szoba": "56",
                                    "foglalas száma": "1"
                                },
                                {
                                    "szoba": "57",
                                    "foglalas száma": "3"
                                },
                                {
                                    "szoba": "58",
                                    "foglalas száma": "8"
                                },
                                {
                                    "szoba": "59",
                                    "foglalas száma": "4"
                                },
                                {
                                    "szoba": "60",
                                    "foglalas száma": "1"
                                },
                                {
                                    "szoba": "61",
                                    "foglalas száma": "4"
                                },
                                {
                                    "szoba": "62",
                                    "foglalas száma": "3"
                                },
                                {
                                    "szoba": "63",
                                    "foglalas száma": "3"
                                },
                                {
                                    "szoba": "64",
                                    "foglalas száma": "5"
                                },
                                {
                                    "szoba": "66",
                                    "foglalas száma": "3"
                                },
                                {
                                    "szoba": "67",
                                    "foglalas száma": "2"
                                },
                                {
                                    "szoba": "69",
                                    "foglalas száma": "2"
                                },
                                {
                                    "szoba": "70",
                                    "foglalas száma": "8"
                                },
                                {
                                    "szoba": "71",
                                    "foglalas száma": "2"
                                },
                                {
                                    "szoba": "72",
                                    "foglalas száma": "2"
                                },
                                {
                                    "szoba": "73",
                                    "foglalas száma": "4"
                                },
                                {
                                    "szoba": "74",
                                    "foglalas száma": "8"
                                },
                                {
                                    "szoba": "75",
                                    "foglalas száma": "2"
                                },
                                {
                                    "szoba": "76",
                                    "foglalas száma": "2"
                                },
                                {
                                    "szoba": "77",
                                    "foglalas száma": "3"
                                },
                                {
                                    "szoba": "78",
                                    "foglalas száma": "3"
                                },
                                {
                                    "szoba": "79",
                                    "foglalas száma": "4"
                                },
                                {
                                    "szoba": "80",
                                    "foglalas száma": "5"
                                },
                                {
                                    "szoba": "81",
                                    "foglalas száma": "3"
                                },
                                {
                                    "szoba": "82",
                                    "foglalas száma": "5"
                                },
                                {
                                    "szoba": "83",
                                    "foglalas száma": "5"
                                },
                                {
                                    "szoba": "84",
                                    "foglalas száma": "3"
                                },
                                {
                                    "szoba": "85",
                                    "foglalas száma": "2"
                                },
                                {
                                    "szoba": "86",
                                    "foglalas száma": "4"
                                },
                                {
                                    "szoba": "87",
                                    "foglalas száma": "5"
                                },
                                {
                                    "szoba": "88",
                                    "foglalas száma": "5"
                                },
                                {
                                    "szoba": "89",
                                    "foglalas száma": "8"
                                },
                                {
                                    "szoba": "90",
                                    "foglalas száma": "3"
                                },
                                {
                                    "szoba": "91",
                                    "foglalas száma": "2"
                                },
                                {
                                    "szoba": "92",
                                    "foglalas száma": "5"
                                },
                                {
                                    "szoba": "93",
                                    "foglalas száma": "3"
                                },
                                {
                                    "szoba": "94",
                                    "foglalas száma": "6"
                                },
                                {
                                    "szoba": "95",
                                    "foglalas száma": "3"
                                },
                                {
                                    "szoba": "96",
                                    "foglalas száma": "6"
                                },
                                {
                                    "szoba": "97",
                                    "foglalas száma": "5"
                                },
                                {
                                    "szoba": "98",
                                    "foglalas száma": "4"
                                },
                                {
                                    "szoba": "99",
                                    "foglalas száma": "4"
                                },
                                {
                                    "szoba": "100",
                                    "foglalas száma": "2"
                                },
                                {
                                    "szoba": "101",
                                    "foglalas száma": "1"
                                },
                                {
                                    "szoba": "102",
                                    "foglalas száma": "1"
                                },
                                {
                                    "szoba": "103",
                                    "foglalas száma": "1"
                                },
                                {
                                    "szoba": "104",
                                    "foglalas száma": "3"
                                },
                                {
                                    "szoba": "106",
                                    "foglalas száma": "4"
                                },
                                {
                                    "szoba": "107",
                                    "foglalas száma": "4"
                                },
                                {
                                    "szoba": "108",
                                    "foglalas száma": "1"
                                },
                                {
                                    "szoba": "109",
                                    "foglalas száma": "2"
                                },
                                {
                                    "szoba": "110",
                                    "foglalas száma": "5"
                                },
                                {
                                    "szoba": "111",
                                    "foglalas száma": "1"
                                },
                                {
                                    "szoba": "112",
                                    "foglalas száma": "4"
                                },
                                {
                                    "szoba": "113",
                                    "foglalas száma": "2"
                                },
                                {
                                    "szoba": "114",
                                    "foglalas száma": "1"
                                },
                                {
                                    "szoba": "115",
                                    "foglalas száma": "5"
                                },
                                {
                                    "szoba": "117",
                                    "foglalas száma": "4"
                                },
                                {
                                    "szoba": "118",
                                    "foglalas száma": "2"
                                },
                                {
                                    "szoba": "119",
                                    "foglalas száma": "4"
                                },
                                {
                                    "szoba": "120",
                                    "foglalas száma": "2"
                                },
                                {
                                    "szoba": "121",
                                    "foglalas száma": "5"
                                },
                                {
                                    "szoba": "122",
                                    "foglalas száma": "3"
                                },
                                {
                                    "szoba": "123",
                                    "foglalas száma": "5"
                                },
                                {
                                    "szoba": "124",
                                    "foglalas száma": "4"
                                },
                                {
                                    "szoba": "126",
                                    "foglalas száma": "4"
                                },
                                {
                                    "szoba": "127",
                                    "foglalas száma": "5"
                                },
                                {
                                    "szoba": "129",
                                    "foglalas száma": "3"
                                },
                                {
                                    "szoba": "130",
                                    "foglalas száma": "5"
                                },
                                {
                                    "szoba": "131",
                                    "foglalas száma": "4"
                                },
                                {
                                    "szoba": "132",
                                    "foglalas száma": "4"
                                },
                                {
                                    "szoba": "133",
                                    "foglalas száma": "4"
                                },
                                {
                                    "szoba": "134",
                                    "foglalas száma": "4"
                                },
                                {
                                    "szoba": "135",
                                    "foglalas száma": "3"
                                },
                                {
                                    "szoba": "136",
                                    "foglalas száma": "2"
                                },
                                {
                                    "szoba": "137",
                                    "foglalas száma": "2"
                                },
                                {
                                    "szoba": "138",
                                    "foglalas száma": "5"
                                },
                                {
                                    "szoba": "139",
                                    "foglalas száma": "6"
                                },
                                {
                                    "szoba": "140",
                                    "foglalas száma": "5"
                                },
                                {
                                    "szoba": "141",
                                    "foglalas száma": "4"
                                },
                                {
                                    "szoba": "142",
                                    "foglalas száma": "1"
                                },
                                {
                                    "szoba": "143",
                                    "foglalas száma": "5"
                                },
                                {
                                    "szoba": "144",
                                    "foglalas száma": "2"
                                },
                                {
                                    "szoba": "145",
                                    "foglalas száma": "2"
                                },
                                {
                                    "szoba": "146",
                                    "foglalas száma": "3"
                                },
                                {
                                    "szoba": "147",
                                    "foglalas száma": "1"
                                },
                                {
                                    "szoba": "148",
                                    "foglalas száma": "5"
                                },
                                {
                                    "szoba": "149",
                                    "foglalas száma": "5"
                                },
                                {
                                    "szoba": "150",
                                    "foglalas száma": "6"
                                },
                                {
                                    "szoba": "151",
                                    "foglalas száma": "2"
                                },
                                {
                                    "szoba": "152",
                                    "foglalas száma": "3"
                                },
                                {
                                    "szoba": "153",
                                    "foglalas száma": "4"
                                },
                                {
                                    "szoba": "154",
                                    "foglalas száma": "3"
                                },
                                {
                                    "szoba": "155",
                                    "foglalas száma": "3"
                                },
                                {
                                    "szoba": "156",
                                    "foglalas száma": "2"
                                },
                                {
                                    "szoba": "157",
                                    "foglalas száma": "2"
                                },
                                {
                                    "szoba": "158",
                                    "foglalas száma": "3"
                                },
                                {
                                    "szoba": "160",
                                    "foglalas száma": "2"
                                },
                                {
                                    "szoba": "161",
                                    "foglalas száma": "3"
                                },
                                {
                                    "szoba": "162",
                                    "foglalas száma": "2"
                                },
                                {
                                    "szoba": "163",
                                    "foglalas száma": "5"
                                },
                                {
                                    "szoba": "164",
                                    "foglalas száma": "4"
                                },
                                {
                                    "szoba": "165",
                                    "foglalas száma": "5"
                                },
                                {
                                    "szoba": "166",
                                    "foglalas száma": "3"
                                },
                                {
                                    "szoba": "167",
                                    "foglalas száma": "2"
                                },
                                {
                                    "szoba": "168",
                                    "foglalas száma": "1"
                                },
                                {
                                    "szoba": "169",
                                    "foglalas száma": "3"
                                },
                                {
                                    "szoba": "170",
                                    "foglalas száma": "3"
                                },
                                {
                                    "szoba": "171",
                                    "foglalas száma": "5"
                                },
                                {
                                    "szoba": "172",
                                    "foglalas száma": "6"
                                },
                                {
                                    "szoba": "173",
                                    "foglalas száma": "3"
                                },
                                {
                                    "szoba": "174",
                                    "foglalas száma": "4"
                                },
                                {
                                    "szoba": "175",
                                    "foglalas száma": "3"
                                },
                                {
                                    "szoba": "176",
                                    "foglalas száma": "2"
                                },
                                {
                                    "szoba": "177",
                                    "foglalas száma": "1"
                                },
                                {
                                    "szoba": "178",
                                    "foglalas száma": "1"
                                },
                                {
                                    "szoba": "179",
                                    "foglalas száma": "2"
                                },
                                {
                                    "szoba": "180",
                                    "foglalas száma": "1"
                                },
                                {
                                    "szoba": "181",
                                    "foglalas száma": "5"
                                },
                                {
                                    "szoba": "182",
                                    "foglalas száma": "11"
                                },
                                {
                                    "szoba": "183",
                                    "foglalas száma": "3"
                                },
                                {
                                    "szoba": "184",
                                    "foglalas száma": "4"
                                },
                                {
                                    "szoba": "185",
                                    "foglalas száma": "10"
                                },
                                {
                                    "szoba": "186",
                                    "foglalas száma": "1"
                                },
                                {
                                    "szoba": "187",
                                    "foglalas száma": "6"
                                },
                                {
                                    "szoba": "188",
                                    "foglalas száma": "2"
                                },
                                {
                                    "szoba": "189",
                                    "foglalas száma": "1"
                                },
                                {
                                    "szoba": "190",
                                    "foglalas száma": "5"
                                },
                                {
                                    "szoba": "191",
                                    "foglalas száma": "3"
                                },
                                {
                                    "szoba": "192",
                                    "foglalas száma": "1"
                                },
                                {
                                    "szoba": "193",
                                    "foglalas száma": "2"
                                },
                                {
                                    "szoba": "194",
                                    "foglalas száma": "1"
                                },
                                {
                                    "szoba": "195",
                                    "foglalas száma": "5"
                                },
                                {
                                    "szoba": "196",
                                    "foglalas száma": "2"
                                },
                                {
                                    "szoba": "197",
                                    "foglalas száma": "6"
                                },
                                {
                                    "szoba": "198",
                                    "foglalas száma": "7"
                                },
                                {
                                    "szoba": "Összesen",
                                    "foglalas száma": "668"
                                }
                            ]
                        },
                        "text/html": [
                            "<table>",
                            "<tr><th>szoba</th><th>foglalas száma</th></tr>",
                            "<tr><td>1</td><td>7</td></tr>",
                            "<tr><td>2</td><td>2</td></tr>",
                            "<tr><td>3</td><td>3</td></tr>",
                            "<tr><td>4</td><td>5</td></tr>",
                            "<tr><td>5</td><td>2</td></tr>",
                            "<tr><td>6</td><td>5</td></tr>",
                            "<tr><td>7</td><td>6</td></tr>",
                            "<tr><td>8</td><td>5</td></tr>",
                            "<tr><td>9</td><td>4</td></tr>",
                            "<tr><td>10</td><td>4</td></tr>",
                            "<tr><td>11</td><td>4</td></tr>",
                            "<tr><td>12</td><td>7</td></tr>",
                            "<tr><td>13</td><td>4</td></tr>",
                            "<tr><td>14</td><td>3</td></tr>",
                            "<tr><td>15</td><td>4</td></tr>",
                            "<tr><td>16</td><td>1</td></tr>",
                            "<tr><td>17</td><td>2</td></tr>",
                            "<tr><td>18</td><td>3</td></tr>",
                            "<tr><td>19</td><td>4</td></tr>",
                            "<tr><td>20</td><td>5</td></tr>",
                            "<tr><td>21</td><td>1</td></tr>",
                            "<tr><td>22</td><td>2</td></tr>",
                            "<tr><td>23</td><td>3</td></tr>",
                            "<tr><td>24</td><td>3</td></tr>",
                            "<tr><td>25</td><td>1</td></tr>",
                            "<tr><td>27</td><td>5</td></tr>",
                            "<tr><td>28</td><td>5</td></tr>",
                            "<tr><td>29</td><td>3</td></tr>",
                            "<tr><td>30</td><td>2</td></tr>",
                            "<tr><td>31</td><td>1</td></tr>",
                            "<tr><td>32</td><td>1</td></tr>",
                            "<tr><td>33</td><td>3</td></tr>",
                            "<tr><td>34</td><td>3</td></tr>",
                            "<tr><td>35</td><td>6</td></tr>",
                            "<tr><td>36</td><td>4</td></tr>",
                            "<tr><td>37</td><td>2</td></tr>",
                            "<tr><td>38</td><td>5</td></tr>",
                            "<tr><td>39</td><td>4</td></tr>",
                            "<tr><td>40</td><td>3</td></tr>",
                            "<tr><td>41</td><td>1</td></tr>",
                            "<tr><td>42</td><td>5</td></tr>",
                            "<tr><td>43</td><td>4</td></tr>",
                            "<tr><td>44</td><td>6</td></tr>",
                            "<tr><td>45</td><td>4</td></tr>",
                            "<tr><td>46</td><td>3</td></tr>",
                            "<tr><td>47</td><td>2</td></tr>",
                            "<tr><td>48</td><td>6</td></tr>",
                            "<tr><td>49</td><td>5</td></tr>",
                            "<tr><td>50</td><td>3</td></tr>",
                            "<tr><td>51</td><td>3</td></tr>",
                            "<tr><td>52</td><td>5</td></tr>",
                            "<tr><td>54</td><td>4</td></tr>",
                            "<tr><td>55</td><td>3</td></tr>",
                            "<tr><td>56</td><td>1</td></tr>",
                            "<tr><td>57</td><td>3</td></tr>",
                            "<tr><td>58</td><td>8</td></tr>",
                            "<tr><td>59</td><td>4</td></tr>",
                            "<tr><td>60</td><td>1</td></tr>",
                            "<tr><td>61</td><td>4</td></tr>",
                            "<tr><td>62</td><td>3</td></tr>",
                            "<tr><td>63</td><td>3</td></tr>",
                            "<tr><td>64</td><td>5</td></tr>",
                            "<tr><td>66</td><td>3</td></tr>",
                            "<tr><td>67</td><td>2</td></tr>",
                            "<tr><td>69</td><td>2</td></tr>",
                            "<tr><td>70</td><td>8</td></tr>",
                            "<tr><td>71</td><td>2</td></tr>",
                            "<tr><td>72</td><td>2</td></tr>",
                            "<tr><td>73</td><td>4</td></tr>",
                            "<tr><td>74</td><td>8</td></tr>",
                            "<tr><td>75</td><td>2</td></tr>",
                            "<tr><td>76</td><td>2</td></tr>",
                            "<tr><td>77</td><td>3</td></tr>",
                            "<tr><td>78</td><td>3</td></tr>",
                            "<tr><td>79</td><td>4</td></tr>",
                            "<tr><td>80</td><td>5</td></tr>",
                            "<tr><td>81</td><td>3</td></tr>",
                            "<tr><td>82</td><td>5</td></tr>",
                            "<tr><td>83</td><td>5</td></tr>",
                            "<tr><td>84</td><td>3</td></tr>",
                            "<tr><td>85</td><td>2</td></tr>",
                            "<tr><td>86</td><td>4</td></tr>",
                            "<tr><td>87</td><td>5</td></tr>",
                            "<tr><td>88</td><td>5</td></tr>",
                            "<tr><td>89</td><td>8</td></tr>",
                            "<tr><td>90</td><td>3</td></tr>",
                            "<tr><td>91</td><td>2</td></tr>",
                            "<tr><td>92</td><td>5</td></tr>",
                            "<tr><td>93</td><td>3</td></tr>",
                            "<tr><td>94</td><td>6</td></tr>",
                            "<tr><td>95</td><td>3</td></tr>",
                            "<tr><td>96</td><td>6</td></tr>",
                            "<tr><td>97</td><td>5</td></tr>",
                            "<tr><td>98</td><td>4</td></tr>",
                            "<tr><td>99</td><td>4</td></tr>",
                            "<tr><td>100</td><td>2</td></tr>",
                            "<tr><td>101</td><td>1</td></tr>",
                            "<tr><td>102</td><td>1</td></tr>",
                            "<tr><td>103</td><td>1</td></tr>",
                            "<tr><td>104</td><td>3</td></tr>",
                            "<tr><td>106</td><td>4</td></tr>",
                            "<tr><td>107</td><td>4</td></tr>",
                            "<tr><td>108</td><td>1</td></tr>",
                            "<tr><td>109</td><td>2</td></tr>",
                            "<tr><td>110</td><td>5</td></tr>",
                            "<tr><td>111</td><td>1</td></tr>",
                            "<tr><td>112</td><td>4</td></tr>",
                            "<tr><td>113</td><td>2</td></tr>",
                            "<tr><td>114</td><td>1</td></tr>",
                            "<tr><td>115</td><td>5</td></tr>",
                            "<tr><td>117</td><td>4</td></tr>",
                            "<tr><td>118</td><td>2</td></tr>",
                            "<tr><td>119</td><td>4</td></tr>",
                            "<tr><td>120</td><td>2</td></tr>",
                            "<tr><td>121</td><td>5</td></tr>",
                            "<tr><td>122</td><td>3</td></tr>",
                            "<tr><td>123</td><td>5</td></tr>",
                            "<tr><td>124</td><td>4</td></tr>",
                            "<tr><td>126</td><td>4</td></tr>",
                            "<tr><td>127</td><td>5</td></tr>",
                            "<tr><td>129</td><td>3</td></tr>",
                            "<tr><td>130</td><td>5</td></tr>",
                            "<tr><td>131</td><td>4</td></tr>",
                            "<tr><td>132</td><td>4</td></tr>",
                            "<tr><td>133</td><td>4</td></tr>",
                            "<tr><td>134</td><td>4</td></tr>",
                            "<tr><td>135</td><td>3</td></tr>",
                            "<tr><td>136</td><td>2</td></tr>",
                            "<tr><td>137</td><td>2</td></tr>",
                            "<tr><td>138</td><td>5</td></tr>",
                            "<tr><td>139</td><td>6</td></tr>",
                            "<tr><td>140</td><td>5</td></tr>",
                            "<tr><td>141</td><td>4</td></tr>",
                            "<tr><td>142</td><td>1</td></tr>",
                            "<tr><td>143</td><td>5</td></tr>",
                            "<tr><td>144</td><td>2</td></tr>",
                            "<tr><td>145</td><td>2</td></tr>",
                            "<tr><td>146</td><td>3</td></tr>",
                            "<tr><td>147</td><td>1</td></tr>",
                            "<tr><td>148</td><td>5</td></tr>",
                            "<tr><td>149</td><td>5</td></tr>",
                            "<tr><td>150</td><td>6</td></tr>",
                            "<tr><td>151</td><td>2</td></tr>",
                            "<tr><td>152</td><td>3</td></tr>",
                            "<tr><td>153</td><td>4</td></tr>",
                            "<tr><td>154</td><td>3</td></tr>",
                            "<tr><td>155</td><td>3</td></tr>",
                            "<tr><td>156</td><td>2</td></tr>",
                            "<tr><td>157</td><td>2</td></tr>",
                            "<tr><td>158</td><td>3</td></tr>",
                            "<tr><td>160</td><td>2</td></tr>",
                            "<tr><td>161</td><td>3</td></tr>",
                            "<tr><td>162</td><td>2</td></tr>",
                            "<tr><td>163</td><td>5</td></tr>",
                            "<tr><td>164</td><td>4</td></tr>",
                            "<tr><td>165</td><td>5</td></tr>",
                            "<tr><td>166</td><td>3</td></tr>",
                            "<tr><td>167</td><td>2</td></tr>",
                            "<tr><td>168</td><td>1</td></tr>",
                            "<tr><td>169</td><td>3</td></tr>",
                            "<tr><td>170</td><td>3</td></tr>",
                            "<tr><td>171</td><td>5</td></tr>",
                            "<tr><td>172</td><td>6</td></tr>",
                            "<tr><td>173</td><td>3</td></tr>",
                            "<tr><td>174</td><td>4</td></tr>",
                            "<tr><td>175</td><td>3</td></tr>",
                            "<tr><td>176</td><td>2</td></tr>",
                            "<tr><td>177</td><td>1</td></tr>",
                            "<tr><td>178</td><td>1</td></tr>",
                            "<tr><td>179</td><td>2</td></tr>",
                            "<tr><td>180</td><td>1</td></tr>",
                            "<tr><td>181</td><td>5</td></tr>",
                            "<tr><td>182</td><td>11</td></tr>",
                            "<tr><td>183</td><td>3</td></tr>",
                            "<tr><td>184</td><td>4</td></tr>",
                            "<tr><td>185</td><td>10</td></tr>",
                            "<tr><td>186</td><td>1</td></tr>",
                            "<tr><td>187</td><td>6</td></tr>",
                            "<tr><td>188</td><td>2</td></tr>",
                            "<tr><td>189</td><td>1</td></tr>",
                            "<tr><td>190</td><td>5</td></tr>",
                            "<tr><td>191</td><td>3</td></tr>",
                            "<tr><td>192</td><td>1</td></tr>",
                            "<tr><td>193</td><td>2</td></tr>",
                            "<tr><td>194</td><td>1</td></tr>",
                            "<tr><td>195</td><td>5</td></tr>",
                            "<tr><td>196</td><td>2</td></tr>",
                            "<tr><td>197</td><td>6</td></tr>",
                            "<tr><td>198</td><td>7</td></tr>",
                            "<tr><td>Összesen</td><td>668</td></tr>",
                            "</table>"
                        ]
                    }
                }
            ],
            "execution_count": 3
        },
        {
            "cell_type": "code",
            "source": [
                "select v.usernev\r\n",
                "from Vendeg v\r\n",
                "where v.usernev not in (select usernev from vendeg v2 join foglalas f on v2.usernev = f.UGYFEL_FK)\r\n",
                "OR v.usernev in (select v2.usernev, count(*) from vendeg v2 join foglalas f on v2.usernev = f.UGYFEL_FK where count(*)<=2)"
            ],
            "metadata": {
                "azdata_cell_guid": "ccc425bf-7b05-46a3-87a9-a5b2059c185d",
                "language": "sql"
            },
            "outputs": [
                {
                    "output_type": "error",
                    "evalue": "Msg 147, Level 15, State 1, Line 4\r\nAn aggregate may not appear in the WHERE clause unless it is in a subquery contained in a HAVING clause or a select list, and the column being aggregated is an outer reference.",
                    "ename": "",
                    "traceback": []
                },
                {
                    "output_type": "error",
                    "evalue": "Msg 116, Level 16, State 1, Line 4\r\nOnly one expression can be specified in the select list when the subquery is not introduced with EXISTS.",
                    "ename": "",
                    "traceback": []
                },
                {
                    "output_type": "display_data",
                    "data": {
                        "text/html": "Total execution time: 00:00:00.004"
                    },
                    "metadata": {}
                }
            ],
            "execution_count": 12
        }
    ]
}